{
 "cells": [
  {
   "cell_type": "code",
   "execution_count": 77,
   "metadata": {},
   "outputs": [],
   "source": [
    "import torch\n",
    "import torchvision\n",
    "import torch.nn as nn\n",
    "import torchvision\n",
    "from torch.utils.data import Dataset, DataLoader\n",
    "import torchvision.transforms as transforms"
   ]
  },
  {
   "cell_type": "code",
   "execution_count": 78,
   "metadata": {},
   "outputs": [],
   "source": [
    "import random\n",
    "from PIL import Image\n",
    "\n",
    "\n",
    "class CustomDataset(Dataset):\n",
    "    def __init__(self, train, to_tensor=True):\n",
    "        self.mnist = torchvision.datasets.MNIST(\n",
    "            \"files/mnist\", train=train, download=True\n",
    "        )\n",
    "        self.fashion_mnist = torchvision.datasets.FashionMNIST(\n",
    "            \"files/fashion_mnist\", train=train, download=True\n",
    "        )\n",
    "        self.to_tensor_transform = transforms.Compose([transforms.ToTensor()])\n",
    "\n",
    "        self.dataset = []\n",
    "        self.mnist_size = len(self.mnist)\n",
    "\n",
    "        for i in range(self.mnist_size):\n",
    "            number_img, number_label = self.mnist[i]\n",
    "            left_img, left_label = random.choice(self.fashion_mnist)\n",
    "\n",
    "            while True:\n",
    "                right_img, right_label = random.choice(self.fashion_mnist)\n",
    "                if left_label != right_label:\n",
    "                    break\n",
    "\n",
    "            img = self.__concat_images(left_img, number_img, right_img)\n",
    "            label = left_label if number_label % 2 == 0 else right_label\n",
    "\n",
    "            if to_tensor:\n",
    "                img = self.to_tensor_transform(img)\n",
    "\n",
    "            self.dataset.append((img, label))\n",
    "\n",
    "    def __len__(self):\n",
    "        return self.mnist_size\n",
    "\n",
    "    def __getitem__(self, idx):\n",
    "        return self.dataset[idx]\n",
    "\n",
    "    def __concat_images(self, left, center, right):\n",
    "        IMG_SIZE = 28\n",
    "        img = Image.new(\"L\", (IMG_SIZE * 3, IMG_SIZE))\n",
    "        img.paste(left, (0, 0))\n",
    "        img.paste(center, (IMG_SIZE, 0))\n",
    "        img.paste(right, (2 * IMG_SIZE, 0))\n",
    "        return img\n",
    "\n",
    "    @staticmethod\n",
    "    def decode_label(label):\n",
    "        mapping = {\n",
    "            0: \"T-shirt/Top\",\n",
    "            1: \"Trouser\",\n",
    "            2: \"Pullover\",\n",
    "            3: \"Dress\",\n",
    "            4: \"Coat\",\n",
    "            5: \"Sandal\",\n",
    "            6: \"Shirt\",\n",
    "            7: \"Sneaker\",\n",
    "            8: \"Bag\",\n",
    "            9: \"Ankle Boot\",\n",
    "        }\n",
    "\n",
    "        return mapping[label]"
   ]
  },
  {
   "cell_type": "code",
   "execution_count": 79,
   "metadata": {},
   "outputs": [],
   "source": [
    "train = CustomDataset(train=True)\n",
    "test = CustomDataset(train=False)"
   ]
  },
  {
   "cell_type": "code",
   "execution_count": 80,
   "metadata": {},
   "outputs": [
    {
     "name": "stdout",
     "output_type": "stream",
     "text": [
      "7\n"
     ]
    },
    {
     "data": {
      "text/plain": [
       "tensor([[[0., 0., 0.,  ..., 0., 0., 0.],\n",
       "         [0., 0., 0.,  ..., 0., 0., 0.],\n",
       "         [0., 0., 0.,  ..., 0., 0., 0.],\n",
       "         ...,\n",
       "         [0., 0., 0.,  ..., 0., 0., 0.],\n",
       "         [0., 0., 0.,  ..., 0., 0., 0.],\n",
       "         [0., 0., 0.,  ..., 0., 0., 0.]]])"
      ]
     },
     "execution_count": 80,
     "metadata": {},
     "output_type": "execute_result"
    }
   ],
   "source": [
    "print(test[1][1])\n",
    "test[1][0]"
   ]
  },
  {
   "cell_type": "code",
   "execution_count": 81,
   "metadata": {},
   "outputs": [],
   "source": [
    "train_loader = DataLoader(train, batch_size=128)\n"
   ]
  },
  {
   "cell_type": "code",
   "execution_count": 124,
   "metadata": {},
   "outputs": [],
   "source": [
    "class CNN(nn.Module):\n",
    "    def __init__(self):\n",
    "        super().__init__()\n",
    "\n",
    "        self.layers = nn.Sequential(\n",
    "            nn.Conv2d(in_channels=1, out_channels=32, kernel_size=3),\n",
    "            nn.ReLU(),\n",
    "            nn.MaxPool2d(2),\n",
    "            nn.Conv2d(in_channels=32, out_channels=64, kernel_size=3),\n",
    "            nn.ReLU(),\n",
    "            nn.MaxPool2d(2),\n",
    "            nn.Conv2d(in_channels=64, out_channels=64, kernel_size=3),\n",
    "            nn.ReLU(),\n",
    "            nn.MaxPool2d(2),\n",
    "            nn.Flatten(0, -1),\n",
    "            nn.Dropout(0.5),\n",
    "            nn.Linear(512, 32),\n",
    "            nn.ReLU(),\n",
    "            nn.Linear(32, 10),\n",
    "            nn.Softmax()\n",
    "        )\n",
    "    \n",
    "    def forward(self, x):\n",
    "        return self.layers(x)"
   ]
  },
  {
   "cell_type": "code",
   "execution_count": 126,
   "metadata": {},
   "outputs": [
    {
     "data": {
      "text/plain": [
       "tensor([0.1009, 0.1053, 0.0866, 0.1020, 0.1009, 0.0966, 0.1125, 0.1104, 0.0843,\n",
       "        0.1005], grad_fn=<SoftmaxBackward0>)"
      ]
     },
     "execution_count": 126,
     "metadata": {},
     "output_type": "execute_result"
    }
   ],
   "source": [
    "model = CNN()\n",
    "error = nn.CrossEntropyLoss()\n",
    "learning_rate = 0.001\n",
    "optimizer = torch.optim.Adam(model.parameters(), lr=learning_rate)\n",
    "t = model.forward(train[0][0])\n",
    "t"
   ]
  },
  {
   "cell_type": "code",
   "execution_count": null,
   "metadata": {},
   "outputs": [],
   "source": []
  }
 ],
 "metadata": {
  "kernelspec": {
   "display_name": "Python (obrazy)",
   "language": "python",
   "name": "obrazy"
  },
  "language_info": {
   "codemirror_mode": {
    "name": "ipython",
    "version": 3
   },
   "file_extension": ".py",
   "mimetype": "text/x-python",
   "name": "python",
   "nbconvert_exporter": "python",
   "pygments_lexer": "ipython3",
   "version": "3.9.18"
  }
 },
 "nbformat": 4,
 "nbformat_minor": 2
}
